{
  "nbformat": 4,
  "nbformat_minor": 0,
  "metadata": {
    "kernelspec": {
      "display_name": "Python 3",
      "language": "python",
      "name": "python3"
    },
    "language_info": {
      "codemirror_mode": {
        "name": "ipython",
        "version": 3
      },
      "file_extension": ".py",
      "mimetype": "text/x-python",
      "name": "python",
      "nbconvert_exporter": "python",
      "pygments_lexer": "ipython3",
      "version": "3.7.0"
    },
    "colab": {
      "name": "Copy of Copy of Consumer buying behavior  - kumar.ipynb",
      "provenance": [],
      "collapsed_sections": [
        "sFoEakYcbb8m",
        "hrjEl7J6bb8n",
        "dIFKdddsbb8s",
        "7L2qNZjDbb8s",
        "oLDv-tkfbb8t",
        "kCBL0z9Abb8u",
        "pXCla48abb8v",
        "fLW-NYfcbb8v",
        "jHoo4GvLbb8w",
        "8g_kqCcVbb8z",
        "Dd7wxm08bb80",
        "_bhfqpW5bb80",
        "KYbl91IXbb80",
        "cHNbz7IQbb82",
        "iteq_3l2bb82",
        "_Ohvnz3abb84",
        "tBzJZ6ssbb84"
      ]
    }
  },
  "cells": [
    {
      "cell_type": "markdown",
      "metadata": {
        "id": "PaNCqirmbb8a"
      },
      "source": [
        "## Customer segmentation and consumer behavior analysis"
      ]
    },
    {
      "cell_type": "markdown",
      "metadata": {
        "id": "dvlf7p_Sbb8c"
      },
      "source": [
        "This is a real sales data set of a UK based retailer\n",
        "\n",
        "Objective: Segment customers based on buying behavior by applying k-means clustering algorithm to calculate the optimal number of customer segments with similar buying habits (features).\n",
        "\n",
        "Key business problems addressed:\n",
        "\n",
        "Apply 80/20 rule to identify the top 20% \n",
        "1) Customer segments\n",
        "2) Products\n",
        "3) Geographic locations\n",
        "\n",
        "resulting in 80% of $ sales revenue."
      ]
    },
    {
      "cell_type": "markdown",
      "metadata": {
        "id": "gnBDVRiIbb8c"
      },
      "source": [
        "##### Importing the libraries"
      ]
    },
    {
      "cell_type": "code",
      "metadata": {
        "id": "sNstwe6qbb8d"
      },
      "source": [
        "# Importing the libraries\n",
        "\n",
        "import numpy as np\n",
        "import matplotlib.pyplot as plt\n",
        "import pandas as pd\n",
        "%matplotlib inline\n",
        "plt.style.use(\"ggplot\")\n",
        "\n",
        "\n",
        "# # Multiple Output display\n",
        "# from IPython.core.interactiveshell import InteractiveShell\n",
        "# InteractiveShell.ast_node_interactivity = \"all\""
      ],
      "execution_count": null,
      "outputs": []
    },
    {
      "cell_type": "markdown",
      "metadata": {
        "id": "Zg1qqLULbb8e"
      },
      "source": [
        "##### Loading the dataset "
      ]
    },
    {
      "cell_type": "code",
      "metadata": {
        "id": "C-uxsLxTbb8e",
        "colab": {
          "base_uri": "https://localhost:8080/",
          "height": 204
        },
        "outputId": "e4429048-c470-4dc8-de7a-f2cd162bd54d"
      },
      "source": [
        "# Importing the dataset\n",
        "\n",
        "dataset = pd.read_csv('/content/Wholesale customers data.csv')\n",
        "dataset.shape\n",
        "dataset.head(5)"
      ],
      "execution_count": null,
      "outputs": [
        {
          "output_type": "execute_result",
          "data": {
            "text/html": [
              "<div>\n",
              "<style scoped>\n",
              "    .dataframe tbody tr th:only-of-type {\n",
              "        vertical-align: middle;\n",
              "    }\n",
              "\n",
              "    .dataframe tbody tr th {\n",
              "        vertical-align: top;\n",
              "    }\n",
              "\n",
              "    .dataframe thead th {\n",
              "        text-align: right;\n",
              "    }\n",
              "</style>\n",
              "<table border=\"1\" class=\"dataframe\">\n",
              "  <thead>\n",
              "    <tr style=\"text-align: right;\">\n",
              "      <th></th>\n",
              "      <th>Channel</th>\n",
              "      <th>Region</th>\n",
              "      <th>Fresh</th>\n",
              "      <th>Milk</th>\n",
              "      <th>Grocery</th>\n",
              "      <th>Frozen</th>\n",
              "      <th>Detergents_Paper</th>\n",
              "      <th>Delicassen</th>\n",
              "    </tr>\n",
              "  </thead>\n",
              "  <tbody>\n",
              "    <tr>\n",
              "      <th>0</th>\n",
              "      <td>2</td>\n",
              "      <td>3</td>\n",
              "      <td>12669</td>\n",
              "      <td>9656</td>\n",
              "      <td>7561</td>\n",
              "      <td>214</td>\n",
              "      <td>2674</td>\n",
              "      <td>1338</td>\n",
              "    </tr>\n",
              "    <tr>\n",
              "      <th>1</th>\n",
              "      <td>2</td>\n",
              "      <td>3</td>\n",
              "      <td>7057</td>\n",
              "      <td>9810</td>\n",
              "      <td>9568</td>\n",
              "      <td>1762</td>\n",
              "      <td>3293</td>\n",
              "      <td>1776</td>\n",
              "    </tr>\n",
              "    <tr>\n",
              "      <th>2</th>\n",
              "      <td>2</td>\n",
              "      <td>3</td>\n",
              "      <td>6353</td>\n",
              "      <td>8808</td>\n",
              "      <td>7684</td>\n",
              "      <td>2405</td>\n",
              "      <td>3516</td>\n",
              "      <td>7844</td>\n",
              "    </tr>\n",
              "    <tr>\n",
              "      <th>3</th>\n",
              "      <td>1</td>\n",
              "      <td>3</td>\n",
              "      <td>13265</td>\n",
              "      <td>1196</td>\n",
              "      <td>4221</td>\n",
              "      <td>6404</td>\n",
              "      <td>507</td>\n",
              "      <td>1788</td>\n",
              "    </tr>\n",
              "    <tr>\n",
              "      <th>4</th>\n",
              "      <td>2</td>\n",
              "      <td>3</td>\n",
              "      <td>22615</td>\n",
              "      <td>5410</td>\n",
              "      <td>7198</td>\n",
              "      <td>3915</td>\n",
              "      <td>1777</td>\n",
              "      <td>5185</td>\n",
              "    </tr>\n",
              "  </tbody>\n",
              "</table>\n",
              "</div>"
            ],
            "text/plain": [
              "   Channel  Region  Fresh  Milk  Grocery  Frozen  Detergents_Paper  Delicassen\n",
              "0        2       3  12669  9656     7561     214              2674        1338\n",
              "1        2       3   7057  9810     9568    1762              3293        1776\n",
              "2        2       3   6353  8808     7684    2405              3516        7844\n",
              "3        1       3  13265  1196     4221    6404               507        1788\n",
              "4        2       3  22615  5410     7198    3915              1777        5185"
            ]
          },
          "metadata": {
            "tags": []
          },
          "execution_count": 3
        }
      ]
    },
    {
      "cell_type": "markdown",
      "metadata": {
        "id": "NSeMsKAXbb8f"
      },
      "source": [
        "##### Missing data & Type of variables"
      ]
    },
    {
      "cell_type": "code",
      "metadata": {
        "id": "UycGUs6Pbb8g",
        "colab": {
          "base_uri": "https://localhost:8080/"
        },
        "outputId": "ef14e800-fae1-4564-a272-1957199fc8b0"
      },
      "source": [
        "dataset.info()"
      ],
      "execution_count": null,
      "outputs": [
        {
          "output_type": "stream",
          "text": [
            "<class 'pandas.core.frame.DataFrame'>\n",
            "RangeIndex: 440 entries, 0 to 439\n",
            "Data columns (total 8 columns):\n",
            " #   Column            Non-Null Count  Dtype\n",
            "---  ------            --------------  -----\n",
            " 0   Channel           440 non-null    int64\n",
            " 1   Region            440 non-null    int64\n",
            " 2   Fresh             440 non-null    int64\n",
            " 3   Milk              440 non-null    int64\n",
            " 4   Grocery           440 non-null    int64\n",
            " 5   Frozen            440 non-null    int64\n",
            " 6   Detergents_Paper  440 non-null    int64\n",
            " 7   Delicassen        440 non-null    int64\n",
            "dtypes: int64(8)\n",
            "memory usage: 27.6 KB\n"
          ],
          "name": "stdout"
        }
      ]
    },
    {
      "cell_type": "markdown",
      "metadata": {
        "id": "r4rYjuwPbb8g"
      },
      "source": [
        "###### Analysis: \n",
        "\n",
        "Transforming specific variables into categorical variables"
      ]
    },
    {
      "cell_type": "code",
      "metadata": {
        "id": "zXVYP3VMbb8g",
        "colab": {
          "base_uri": "https://localhost:8080/"
        },
        "outputId": "02c50e3d-438f-4084-c599-4fdd8ed9c003"
      },
      "source": [
        "dataset['Channel'] = dataset['Channel'].astype('category')\n",
        "dataset['Region'] = dataset['Region'].astype('category')\n",
        "dataset.info()"
      ],
      "execution_count": null,
      "outputs": [
        {
          "output_type": "stream",
          "text": [
            "<class 'pandas.core.frame.DataFrame'>\n",
            "RangeIndex: 440 entries, 0 to 439\n",
            "Data columns (total 8 columns):\n",
            " #   Column            Non-Null Count  Dtype   \n",
            "---  ------            --------------  -----   \n",
            " 0   Channel           440 non-null    category\n",
            " 1   Region            440 non-null    category\n",
            " 2   Fresh             440 non-null    int64   \n",
            " 3   Milk              440 non-null    int64   \n",
            " 4   Grocery           440 non-null    int64   \n",
            " 5   Frozen            440 non-null    int64   \n",
            " 6   Detergents_Paper  440 non-null    int64   \n",
            " 7   Delicassen        440 non-null    int64   \n",
            "dtypes: category(2), int64(6)\n",
            "memory usage: 21.8 KB\n"
          ],
          "name": "stdout"
        }
      ]
    },
    {
      "cell_type": "markdown",
      "metadata": {
        "id": "NLAPMK_qbb8h"
      },
      "source": [
        "### Data pre-processing for model"
      ]
    },
    {
      "cell_type": "code",
      "metadata": {
        "id": "1WbSvBJubb8h"
      },
      "source": [
        "# Customer Segmentation by $ Revenue & Country\n",
        "\n",
        "X = dataset\n",
        "num_cols = [\"Fresh\", \"Milk\", \"Grocery\", \"Frozen\", \"Detergents_Paper\", \"Delicassen\"]\n",
        "\n",
        "# Creating dummy variables for categorical types\n",
        "cat_cols = [\"Channel\", \"Region\"]\n",
        "dummies = pd.get_dummies(X[cat_cols])\n",
        "# dummies.head(5)\n",
        "\n",
        "# Combining dummy variables and numeric varianbles\n",
        "\n",
        "X1 = X[num_cols]\n",
        "X2 = pd.concat([dummies, X1], axis=1)\n",
        "X = X2\n",
        "\n",
        "y = dataset[\"Frozen\"]\n",
        "\n",
        "# Splitting the dataset into the training and test sets\n",
        "\n",
        "from sklearn.model_selection import train_test_split\n",
        "X_train, X_test, y_train, y_test = train_test_split(X, y, test_size = 0.25, random_state = 0)\n",
        "X_train.head(5)\n",
        "\n",
        "X_test0 = X_test\n",
        "y_test0 = y_test"
      ],
      "execution_count": null,
      "outputs": []
    },
    {
      "cell_type": "markdown",
      "metadata": {
        "id": "fuQUjZ-mbb8h"
      },
      "source": [
        "### Principal component analysis"
      ]
    },
    {
      "cell_type": "code",
      "metadata": {
        "id": "ttnQvdlJbb8i",
        "colab": {
          "base_uri": "https://localhost:8080/"
        },
        "outputId": "7e18c5c6-7a87-4b10-d382-8aaa81411aed"
      },
      "source": [
        "# Checking the variance explained by each principal component\n",
        "\n",
        "from sklearn.decomposition import PCA\n",
        "pca = PCA(n_components = None)\n",
        "X_train1 = pca.fit_transform(X_train)\n",
        "X_test1 = pca.transform(X_test)\n",
        "explained_variance = pca.explained_variance_ratio_\n",
        "print(\"Variation explained by each principal component\")\n",
        "list(explained_variance)"
      ],
      "execution_count": null,
      "outputs": [
        {
          "output_type": "stream",
          "text": [
            "Variation explained by each principal component\n"
          ],
          "name": "stdout"
        },
        {
          "output_type": "execute_result",
          "data": {
            "text/plain": [
              "[0.46595784879068075,\n",
              " 0.40473044136593744,\n",
              " 0.06915995278940283,\n",
              " 0.03775645653102072,\n",
              " 0.016031919213089926,\n",
              " 0.006363379487509001,\n",
              " 8.365303815691935e-10,\n",
              " 6.566091152574127e-10,\n",
              " 3.2921975027264137e-10,\n",
              " 1.8074577763790618e-34,\n",
              " 1.5182249641321642e-35]"
            ]
          },
          "metadata": {
            "tags": []
          },
          "execution_count": 7
        }
      ]
    },
    {
      "cell_type": "markdown",
      "metadata": {
        "id": "0zG6ZQ7Pbb8i"
      },
      "source": [
        "##### Analysis: I shall choose the top 2 principal components. \n",
        "\n",
        "The top 2 principal components explain 86 % variance in the dataset. Beyond the top  2, the marginial gain in variance for adding each principal componenet is significantly reduced."
      ]
    },
    {
      "cell_type": "markdown",
      "metadata": {
        "id": "Q8y1Czzdbb8j"
      },
      "source": [
        "##### Selecting the top 2 principal components"
      ]
    },
    {
      "cell_type": "code",
      "metadata": {
        "id": "pGRm-k4pbb8j",
        "colab": {
          "base_uri": "https://localhost:8080/"
        },
        "outputId": "1ff5cbdf-c5bb-4c06-ca5a-d07a2edc8871"
      },
      "source": [
        "# Principal component analysis to take the 2 top components\n",
        "\n",
        "i = 2\n",
        "from sklearn.decomposition import PCA\n",
        "pca = PCA(n_components = i)\n",
        "X_train = pca.fit_transform(X_train)\n",
        "X_test = pca.transform(X_test)\n",
        "explained_variance = pca.explained_variance_ratio_\n",
        "print(\"Variation explained by each principal component\")\n",
        "list(explained_variance)"
      ],
      "execution_count": null,
      "outputs": [
        {
          "output_type": "stream",
          "text": [
            "Variation explained by each principal component\n"
          ],
          "name": "stdout"
        },
        {
          "output_type": "execute_result",
          "data": {
            "text/plain": [
              "[0.46595784879068075, 0.40473044136593744]"
            ]
          },
          "metadata": {
            "tags": []
          },
          "execution_count": 8
        }
      ]
    },
    {
      "cell_type": "markdown",
      "metadata": {
        "id": "VNfOZIEhbb8j"
      },
      "source": [
        "### Customer segmentation"
      ]
    },
    {
      "cell_type": "markdown",
      "metadata": {
        "id": "9WopsblGbb8k"
      },
      "source": [
        "Elbow method used for customer segmentation based on the top 2 principal componenets"
      ]
    },
    {
      "cell_type": "code",
      "metadata": {
        "id": "hhuQfNsHbb8k",
        "colab": {
          "base_uri": "https://localhost:8080/",
          "height": 299
        },
        "outputId": "5caf2476-6bc4-4d4d-fc9e-de995d133da4"
      },
      "source": [
        "# Using the elbow method to find the optimal number of clusters\n",
        "\n",
        "from sklearn.cluster import KMeans\n",
        "wcss = []\n",
        "for i in range(1, 11):\n",
        "    kmeans = KMeans(n_clusters = i, init = 'k-means++', random_state = 42)\n",
        "    kmeans.fit(X_test)\n",
        "    wcss.append(kmeans.inertia_)\n",
        "plt.plot(range(1, 11), wcss)\n",
        "plt.title('The Elbow Method')\n",
        "plt.xlabel('Number of clusters')\n",
        "plt.ylabel('WCSS')\n",
        "plt.show()"
      ],
      "execution_count": null,
      "outputs": [
        {
          "output_type": "display_data",
          "data": {
            "image/png": "[encoded data removed]",
            "text/plain": [
              "<Figure size 432x288 with 1 Axes>"
            ]
          },
          "metadata": {
            "tags": []
          }
        }
      ]
    },
    {
      "cell_type": "markdown",
      "metadata": {
        "id": "CJbI0Pvjbb8l"
      },
      "source": [
        "##### Analysis: \n",
        "\n",
        "Based on the above diagram, the optimal number of customer segmenets is 3. After the first 3 segments, the incremental drop in error for every additional segment results is significantly reduced."
      ]
    },
    {
      "cell_type": "markdown",
      "metadata": {
        "id": "G8-KxzKXbb8l"
      },
      "source": [
        "### Distribution of Customers in each segment"
      ]
    },
    {
      "cell_type": "code",
      "metadata": {
        "id": "E2yy8V9Hbb8l",
        "colab": {
          "base_uri": "https://localhost:8080/",
          "height": 265
        },
        "outputId": "d1107465-5c7e-405f-864f-54a678addff5"
      },
      "source": [
        "# Fitting K-Means to the dataset\n",
        "X3 = X_test\n",
        "kmeans = KMeans(n_clusters = 3, init = 'k-means++', random_state = 42)\n",
        "y_kmeans = kmeans.fit_predict(X3)\n",
        "plt.plot(y_kmeans, 'g^')\n",
        "plt.show()"
      ],
      "execution_count": null,
      "outputs": [
        {
          "output_type": "display_data",
          "data": {
            "image/png": "[encoded data removed]",
            "text/plain": [
              "<Figure size 432x288 with 1 Axes>"
            ]
          },
          "metadata": {
            "tags": []
          }
        }
      ]
    },
    {
      "cell_type": "markdown",
      "metadata": {
        "id": "sFoEakYcbb8m"
      },
      "source": [
        "#### Analysis: \n",
        "\n",
        "There are 3 optimal customer segments based on their buying behavior, most of the customers belong to Cluster # 1 & 2.\n",
        "\n",
        "#### Strategy: \n",
        "\n",
        "As the retail industry is very competitive, and companies are trying to exploit new market opportunities, our client can try to acquire customers in the 1st customer segment using suitable strategic actions; sales and marketing efforts, promotions, bundling etc."
      ]
    },
    {
      "cell_type": "markdown",
      "metadata": {
        "id": "kfDw1nEibb8m"
      },
      "source": [
        "### Visualizing customer segments"
      ]
    },
    {
      "cell_type": "code",
      "metadata": {
        "id": "Ys8ZgAsKbb8m",
        "colab": {
          "base_uri": "https://localhost:8080/",
          "height": 282
        },
        "outputId": "6624c204-ce06-47d1-e1cd-829baf7bb9b9"
      },
      "source": [
        "# Visualising the clusters\n",
        "plt.scatter(X3[y_kmeans == 0, 0], X3[y_kmeans == 0, 1], s = 100, c = 'red', label = 'Segment 1')\n",
        "plt.scatter(X3[y_kmeans == 1, 0], X3[y_kmeans == 1, 1], s = 100, c = 'blue', label = 'Segment 2')\n",
        "plt.scatter(X3[y_kmeans == 2, 0], X3[y_kmeans == 2, 1], s = 100, c = 'green', label = 'Segment 3')\n",
        "plt.scatter(kmeans.cluster_centers_[:, 0], kmeans.cluster_centers_[:, 1], s = 200, c = 'yellow', label = 'Centroids')\n",
        "plt.title('Customer segments')\n",
        "plt.legend()\n",
        "plt.show()"
      ],
      "execution_count": null,
      "outputs": [
        {
          "output_type": "display_data",
          "data": {
            "image/png": "[encoded data removed]",
            "text/plain": [
              "<Figure size 432x288 with 1 Axes>"
            ]
          },
          "metadata": {
            "tags": []
          }
        }
      ]
    },
    {
      "cell_type": "markdown",
      "metadata": {
        "id": "hrjEl7J6bb8n"
      },
      "source": [
        "### Analysis:\n",
        "    \n",
        "There are some overlap between segment No. 3 with each of Segment No. 1 & 2 at the boundaries which we need to keep in mind while analyzing customers. \n",
        "\n",
        "The k-means clustering algorithm being a un-supervised learning algorithm, we can perform a quick visual check on the model's performance based on the visualization chart."
      ]
    },
    {
      "cell_type": "markdown",
      "metadata": {
        "id": "YjAGrJhzbb8n"
      },
      "source": [
        "### Business Strategy:\n",
        "\n",
        "Customer segment # 1 & 2 have opportunities for growth and future expansion. As the retails industry is a saturated industry, hence customer segment # 3 may already be dominated by other retailers so our client can try to increaese sales in the 2 other cutomer segments (# 1 & 2) through suitable competitive positioning, pricing stratgey, cohesive sales & marketing efforts, promotions, bundling etc."
      ]
    },
    {
      "cell_type": "code",
      "metadata": {
        "id": "Zheiss4hbb8o"
      },
      "source": [
        ""
      ],
      "execution_count": null,
      "outputs": []
    },
    {
      "cell_type": "markdown",
      "metadata": {
        "id": "Q9S_8WPWbb8p"
      },
      "source": [
        "### Customer Segments"
      ]
    },
    {
      "cell_type": "code",
      "metadata": {
        "id": "lKdMPH2hbb8p"
      },
      "source": [
        "Customer_segment_class = pd.DataFrame(y_kmeans)\n",
        "Customer_segment_class.columns = [\"Customer_segment_class\"]\n",
        "X_test2 = X_test0.reset_index(drop=True)\n",
        "\n",
        "Customer_segments = pd.concat([Customer_segment_class, X_test2], axis = 1)\n",
        "# Customer_segments.head(5)"
      ],
      "execution_count": null,
      "outputs": []
    },
    {
      "cell_type": "markdown",
      "metadata": {
        "id": "WfkeXpHAbb8p"
      },
      "source": [
        "### Customer Segments"
      ]
    },
    {
      "cell_type": "code",
      "metadata": {
        "id": "vkITai1sbb8q"
      },
      "source": [
        "# 1st Cluster\n",
        "mask = Customer_segments[\"Customer_segment_class\"] == 0\n",
        "Customer_segments_1 = Customer_segments[mask]\n",
        "\n",
        "# 2nd Cluster\n",
        "mask = Customer_segments[\"Customer_segment_class\"] == 1\n",
        "Customer_segments_2 = Customer_segments[mask]\n",
        "\n",
        "# 3rd Cluster\n",
        "mask = Customer_segments[\"Customer_segment_class\"] == 2\n",
        "Customer_segments_3 = Customer_segments[mask]"
      ],
      "execution_count": null,
      "outputs": []
    },
    {
      "cell_type": "markdown",
      "metadata": {
        "id": "Cxfh3y44bb8q"
      },
      "source": [
        "### Customer Segment Features"
      ]
    },
    {
      "cell_type": "markdown",
      "metadata": {
        "id": "ZjL3vca3bb8q"
      },
      "source": [
        "#### Regions"
      ]
    },
    {
      "cell_type": "code",
      "metadata": {
        "id": "zJNDLWE-bb8q",
        "colab": {
          "base_uri": "https://localhost:8080/"
        },
        "outputId": "82954084-63e5-4a36-87b7-c4c0cc386b3b"
      },
      "source": [
        "Customer_segments_1.groupby([\"Channel_1\", \"Channel_2\"]).size()\n",
        "Customer_segments_2.groupby([\"Channel_1\", \"Channel_2\"]).size()\n",
        "Customer_segments_3.groupby([\"Channel_1\", \"Channel_2\"]).size()"
      ],
      "execution_count": null,
      "outputs": [
        {
          "output_type": "execute_result",
          "data": {
            "text/plain": [
              "Channel_1  Channel_2\n",
              "0          1            18\n",
              "dtype: int64"
            ]
          },
          "metadata": {
            "tags": []
          },
          "execution_count": 14
        }
      ]
    },
    {
      "cell_type": "markdown",
      "metadata": {
        "id": "9oZ_Z43dbb8r"
      },
      "source": [
        "#### Analysis: \n",
        "\n",
        "For customer segment 1: all customers are from Channel 2\n",
        "\n",
        "For customer segment 2: majority of customer are from Channel 2\n",
        "\n",
        "For customer segment 3: although majority of customers are from Channel 2, some also came from Channel 1."
      ]
    },
    {
      "cell_type": "code",
      "metadata": {
        "id": "ZBlK1g6Dbb8r",
        "colab": {
          "base_uri": "https://localhost:8080/"
        },
        "outputId": "4c73595d-bb44-4d66-bd13-881d6433a7b0"
      },
      "source": [
        "Customer_segments_1.groupby([\"Region_1\", \"Region_2\", \"Region_3\"]).size()\n",
        "Customer_segments_2.groupby([\"Region_1\", \"Region_2\", \"Region_3\"]).size()\n",
        "Customer_segments_3.groupby([\"Region_1\", \"Region_2\", \"Region_3\"]).size()"
      ],
      "execution_count": null,
      "outputs": [
        {
          "output_type": "execute_result",
          "data": {
            "text/plain": [
              "Region_1  Region_2  Region_3\n",
              "0         0         1           13\n",
              "          1         0            2\n",
              "1         0         0            3\n",
              "dtype: int64"
            ]
          },
          "metadata": {
            "tags": []
          },
          "execution_count": 18
        }
      ]
    },
    {
      "cell_type": "markdown",
      "metadata": {
        "id": "dIFKdddsbb8s"
      },
      "source": [
        "#### Analysis:\n",
        "    \n",
        "For all 3 customer segments: majority of customers are from Region 3\n",
        "\n",
        "So Region is not a key factor to segment customers."
      ]
    },
    {
      "cell_type": "markdown",
      "metadata": {
        "id": "VGeCCWkObb8s"
      },
      "source": [
        "#### Fresh, Milk & Grocery"
      ]
    },
    {
      "cell_type": "code",
      "metadata": {
        "id": "ygvEwx9Kbb8s",
        "colab": {
          "base_uri": "https://localhost:8080/",
          "height": 297
        },
        "outputId": "b73ce0e6-4729-4a71-f088-e890ae9efc1c"
      },
      "source": [
        "# Fresh\n",
        "\n",
        "plt.subplot(331)\n",
        "plt.title('Fresh_1')\n",
        "Output = None\n",
        "Customer_segments_1[\"Fresh\"].plot(kind = \"hist\", bins = 10)\n",
        "\n",
        "plt.subplot(332)\n",
        "plt.title('Freshs_2')\n",
        "Output = None\n",
        "Customer_segments_2[\"Fresh\"].plot(kind = \"hist\", bins = 10)\n",
        "\n",
        "plt.subplot(333)\n",
        "plt.title('Fresh_3')\n",
        "Output = None\n",
        "Customer_segments_3[\"Fresh\"].plot(kind = \"hist\", bins = 10)\n",
        "plt.tight_layout()\n",
        "\n",
        "# Milk\n",
        "\n",
        "plt.subplot(334)\n",
        "plt.title('Milk_1')\n",
        "Output = None\n",
        "Customer_segments_1[\"Milk\"].plot(kind = \"hist\", bins = 10)\n",
        "\n",
        "plt.subplot(335)\n",
        "plt.title('Milk_2')\n",
        "Output = None\n",
        "Customer_segments_2[\"Milk\"].plot(kind = \"hist\", bins = 10)\n",
        "\n",
        "plt.subplot(336)\n",
        "plt.title('Milk_3')\n",
        "Output = None\n",
        "Customer_segments_3[\"Milk\"].plot(kind = \"hist\", bins = 10)\n",
        "plt.tight_layout()\n",
        "\n",
        "# Grocery\n",
        "\n",
        "plt.subplot(337)\n",
        "plt.title('Grocery_1')\n",
        "Output = None\n",
        "Customer_segments_1[\"Grocery\"].plot(kind = \"hist\", bins = 10)\n",
        "\n",
        "plt.subplot(338)\n",
        "plt.title('Grocery_2')\n",
        "Output = None\n",
        "Customer_segments_2[\"Grocery\"].plot(kind = \"hist\", bins = 10)\n",
        "\n",
        "plt.subplot(339)\n",
        "plt.title('Grocery_3')\n",
        "Output = None\n",
        "Customer_segments_3[\"Grocery\"].plot(kind = \"hist\", bins = 10)\n",
        "plt.tight_layout()"
      ],
      "execution_count": null,
      "outputs": [
        {
          "output_type": "display_data",
          "data": {
            "image/png": "[encoded data removed]",
            "text/plain": [
              "<Figure size 432x288 with 9 Axes>"
            ]
          },
          "metadata": {
            "tags": []
          }
        }
      ]
    },
    {
      "cell_type": "markdown",
      "metadata": {
        "id": "7L2qNZjDbb8s"
      },
      "source": [
        "#### Analysis: \n",
        "\n",
        "Fresh: Segment # 2 makes significant purchases compared to other segments folloewed by Segment # 3 \n",
        "\n",
        "Milk: Segment # 1 makes significant purchases compared to other segments\n",
        "    \n",
        "Grocery: Segnment # 1 makes significant purchases compared to other segments"
      ]
    },
    {
      "cell_type": "markdown",
      "metadata": {
        "id": "oLDv-tkfbb8t"
      },
      "source": [
        "#### Frozen, Detergent Paper & Delicassen"
      ]
    },
    {
      "cell_type": "code",
      "metadata": {
        "id": "lObb3bq1bb8t",
        "colab": {
          "base_uri": "https://localhost:8080/"
        },
        "outputId": "f118a213-53f5-4392-ddd3-3d0c134300e5"
      },
      "source": [
        "# Frozen\n",
        "\n",
        "plt.subplot(331)\n",
        "plt.title('Frozen_1')\n",
        "Customer_segments_1[\"Frozen\"].plot(kind = \"hist\", bins = 10)\n",
        "\n",
        "plt.subplot(332)\n",
        "plt.title('Frozen_2')\n",
        "Customer_segments_2[\"Frozen\"].plot(kind = \"hist\", bins = 10)\n",
        "\n",
        "plt.subplot(333)\n",
        "plt.title('Frozen_3')\n",
        "Customer_segments_3[\"Frozen\"].plot(kind = \"hist\", bins = 10)\n",
        "plt.tight_layout()\n",
        "\n",
        "# Detergent Paper\n",
        "\n",
        "plt.subplot(334)\n",
        "plt.title('Detergent_1')\n",
        "Customer_segments_1[\"Detergents_Paper\"].plot(kind = \"hist\", bins = 10)\n",
        "\n",
        "plt.subplot(335)\n",
        "plt.title('Detergent_2')\n",
        "Customer_segments_2[\"Detergents_Paper\"].plot(kind = \"hist\", bins = 10)\n",
        "\n",
        "plt.subplot(336)\n",
        "plt.title('Detergent_3')\n",
        "Customer_segments_3[\"Detergents_Paper\"].plot(kind = \"hist\", bins = 10)\n",
        "plt.tight_layout()\n",
        "\n",
        "# Delicassen\n",
        "\n",
        "plt.subplot(337)\n",
        "plt.title('Delicassen_1')\n",
        "Customer_segments_1[\"Delicassen\"].plot(kind = \"hist\", bins = 10)\n",
        "\n",
        "plt.subplot(338)\n",
        "plt.title('Delicassen_2')\n",
        "Customer_segments_2[\"Delicassen\"].plot(kind = \"hist\", bins = 10)\n",
        "\n",
        "plt.subplot(339)\n",
        "plt.title('Delicassen_3')\n",
        "Customer_segments_3[\"Delicassen\"].plot(kind = \"hist\", bins = 10)\n",
        "plt.tight_layout()"
      ],
      "execution_count": null,
      "outputs": [
        {
          "output_type": "display_data",
          "data": {
            "image/png": "[encoded data removed]",
            "text/plain": [
              "<Figure size 432x288 with 9 Axes>"
            ]
          },
          "metadata": {
            "tags": []
          }
        }
      ]
    },
    {
      "cell_type": "markdown",
      "metadata": {
        "id": "kCBL0z9Abb8u"
      },
      "source": [
        "#### Analysis:\n",
        "    \n",
        "Frozen: Segment # 2 makes significant purchases followed by Segment # 3\n",
        "\n",
        "Detergent_Paper: Segment # 1 is a major purchaser\n",
        "\n",
        "Delicassen: Segnment # 2 on average makes most purchases, followed by Segmnet # 1"
      ]
    },
    {
      "cell_type": "markdown",
      "metadata": {
        "id": "VtK26U5Tbb8u"
      },
      "source": [
        "## Applying 80/20 Rule (Pareto principle)"
      ]
    },
    {
      "cell_type": "markdown",
      "metadata": {
        "id": "2R3En6Cdbb8u"
      },
      "source": [
        "### Top 20% customers, products & geographic locations resulting in 80% of $ sales"
      ]
    },
    {
      "cell_type": "markdown",
      "metadata": {
        "id": "CdPGiwECbb8u"
      },
      "source": [
        "##### Importing the dataset"
      ]
    },
    {
      "cell_type": "markdown",
      "metadata": {
        "id": "GwqNkqx1bb8u"
      },
      "source": [
        "Data source: \n",
        "\n",
        "https://archive.ics.uci.edu/ml/datasets/online+retail"
      ]
    },
    {
      "cell_type": "code",
      "metadata": {
        "id": "pB7ASrFxbb8v",
        "colab": {
          "base_uri": "https://localhost:8080/",
          "height": 529
        },
        "outputId": "05556731-5db6-45b3-9fba-f8dc6deac52b"
      },
      "source": [
        "dataset = pd.read_excel('/content/Online Retail.xlsx')\n",
        "dataset.shape\n",
        "dataset.head(10)"
      ],
      "execution_count": null,
      "outputs": [
        {
          "output_type": "execute_result",
          "data": {
            "text/html": [
              "<div>\n",
              "<style scoped>\n",
              "    .dataframe tbody tr th:only-of-type {\n",
              "        vertical-align: middle;\n",
              "    }\n",
              "\n",
              "    .dataframe tbody tr th {\n",
              "        vertical-align: top;\n",
              "    }\n",
              "\n",
              "    .dataframe thead th {\n",
              "        text-align: right;\n",
              "    }\n",
              "</style>\n",
              "<table border=\"1\" class=\"dataframe\">\n",
              "  <thead>\n",
              "    <tr style=\"text-align: right;\">\n",
              "      <th></th>\n",
              "      <th>InvoiceNo</th>\n",
              "      <th>StockCode</th>\n",
              "      <th>Description</th>\n",
              "      <th>Quantity</th>\n",
              "      <th>InvoiceDate</th>\n",
              "      <th>UnitPrice</th>\n",
              "      <th>CustomerID</th>\n",
              "      <th>Country</th>\n",
              "    </tr>\n",
              "  </thead>\n",
              "  <tbody>\n",
              "    <tr>\n",
              "      <th>0</th>\n",
              "      <td>536365</td>\n",
              "      <td>85123A</td>\n",
              "      <td>WHITE HANGING HEART T-LIGHT HOLDER</td>\n",
              "      <td>6</td>\n",
              "      <td>2010-12-01 08:26:00</td>\n",
              "      <td>2.55</td>\n",
              "      <td>17850.0</td>\n",
              "      <td>United Kingdom</td>\n",
              "    </tr>\n",
              "    <tr>\n",
              "      <th>1</th>\n",
              "      <td>536365</td>\n",
              "      <td>71053</td>\n",
              "      <td>WHITE METAL LANTERN</td>\n",
              "      <td>6</td>\n",
              "      <td>2010-12-01 08:26:00</td>\n",
              "      <td>3.39</td>\n",
              "      <td>17850.0</td>\n",
              "      <td>United Kingdom</td>\n",
              "    </tr>\n",
              "    <tr>\n",
              "      <th>2</th>\n",
              "      <td>536365</td>\n",
              "      <td>84406B</td>\n",
              "      <td>CREAM CUPID HEARTS COAT HANGER</td>\n",
              "      <td>8</td>\n",
              "      <td>2010-12-01 08:26:00</td>\n",
              "      <td>2.75</td>\n",
              "      <td>17850.0</td>\n",
              "      <td>United Kingdom</td>\n",
              "    </tr>\n",
              "    <tr>\n",
              "      <th>3</th>\n",
              "      <td>536365</td>\n",
              "      <td>84029G</td>\n",
              "      <td>KNITTED UNION FLAG HOT WATER BOTTLE</td>\n",
              "      <td>6</td>\n",
              "      <td>2010-12-01 08:26:00</td>\n",
              "      <td>3.39</td>\n",
              "      <td>17850.0</td>\n",
              "      <td>United Kingdom</td>\n",
              "    </tr>\n",
              "    <tr>\n",
              "      <th>4</th>\n",
              "      <td>536365</td>\n",
              "      <td>84029E</td>\n",
              "      <td>RED WOOLLY HOTTIE WHITE HEART.</td>\n",
              "      <td>6</td>\n",
              "      <td>2010-12-01 08:26:00</td>\n",
              "      <td>3.39</td>\n",
              "      <td>17850.0</td>\n",
              "      <td>United Kingdom</td>\n",
              "    </tr>\n",
              "    <tr>\n",
              "      <th>5</th>\n",
              "      <td>536365</td>\n",
              "      <td>22752</td>\n",
              "      <td>SET 7 BABUSHKA NESTING BOXES</td>\n",
              "      <td>2</td>\n",
              "      <td>2010-12-01 08:26:00</td>\n",
              "      <td>7.65</td>\n",
              "      <td>17850.0</td>\n",
              "      <td>United Kingdom</td>\n",
              "    </tr>\n",
              "    <tr>\n",
              "      <th>6</th>\n",
              "      <td>536365</td>\n",
              "      <td>21730</td>\n",
              "      <td>GLASS STAR FROSTED T-LIGHT HOLDER</td>\n",
              "      <td>6</td>\n",
              "      <td>2010-12-01 08:26:00</td>\n",
              "      <td>4.25</td>\n",
              "      <td>17850.0</td>\n",
              "      <td>United Kingdom</td>\n",
              "    </tr>\n",
              "    <tr>\n",
              "      <th>7</th>\n",
              "      <td>536366</td>\n",
              "      <td>22633</td>\n",
              "      <td>HAND WARMER UNION JACK</td>\n",
              "      <td>6</td>\n",
              "      <td>2010-12-01 08:28:00</td>\n",
              "      <td>1.85</td>\n",
              "      <td>17850.0</td>\n",
              "      <td>United Kingdom</td>\n",
              "    </tr>\n",
              "    <tr>\n",
              "      <th>8</th>\n",
              "      <td>536366</td>\n",
              "      <td>22632</td>\n",
              "      <td>HAND WARMER RED POLKA DOT</td>\n",
              "      <td>6</td>\n",
              "      <td>2010-12-01 08:28:00</td>\n",
              "      <td>1.85</td>\n",
              "      <td>17850.0</td>\n",
              "      <td>United Kingdom</td>\n",
              "    </tr>\n",
              "    <tr>\n",
              "      <th>9</th>\n",
              "      <td>536367</td>\n",
              "      <td>84879</td>\n",
              "      <td>ASSORTED COLOUR BIRD ORNAMENT</td>\n",
              "      <td>32</td>\n",
              "      <td>2010-12-01 08:34:00</td>\n",
              "      <td>1.69</td>\n",
              "      <td>13047.0</td>\n",
              "      <td>United Kingdom</td>\n",
              "    </tr>\n",
              "  </tbody>\n",
              "</table>\n",
              "</div>"
            ],
            "text/plain": [
              "  InvoiceNo StockCode  ... CustomerID         Country\n",
              "0    536365    85123A  ...    17850.0  United Kingdom\n",
              "1    536365     71053  ...    17850.0  United Kingdom\n",
              "2    536365    84406B  ...    17850.0  United Kingdom\n",
              "3    536365    84029G  ...    17850.0  United Kingdom\n",
              "4    536365    84029E  ...    17850.0  United Kingdom\n",
              "5    536365     22752  ...    17850.0  United Kingdom\n",
              "6    536365     21730  ...    17850.0  United Kingdom\n",
              "7    536366     22633  ...    17850.0  United Kingdom\n",
              "8    536366     22632  ...    17850.0  United Kingdom\n",
              "9    536367     84879  ...    13047.0  United Kingdom\n",
              "\n",
              "[10 rows x 8 columns]"
            ]
          },
          "metadata": {
            "tags": []
          },
          "execution_count": 17
        }
      ]
    },
    {
      "cell_type": "markdown",
      "metadata": {
        "id": "pXCla48abb8v"
      },
      "source": [
        "#### Analysis: \n",
        "\n",
        "Missing data are concentrated in the customerID column "
      ]
    },
    {
      "cell_type": "markdown",
      "metadata": {
        "id": "fLW-NYfcbb8v"
      },
      "source": [
        "### Missing data"
      ]
    },
    {
      "cell_type": "code",
      "metadata": {
        "id": "1orLhb8xbb8v",
        "colab": {
          "base_uri": "https://localhost:8080/"
        },
        "outputId": "1f0d384e-4e66-4708-d4d3-565802fff594"
      },
      "source": [
        "# Removing missing data\n",
        "\n",
        "dataset = dataset.dropna()\n",
        "dataset.info()"
      ],
      "execution_count": null,
      "outputs": [
        {
          "output_type": "stream",
          "text": [
            "<class 'pandas.core.frame.DataFrame'>\n",
            "Int64Index: 406829 entries, 0 to 541908\n",
            "Data columns (total 8 columns):\n",
            " #   Column       Non-Null Count   Dtype         \n",
            "---  ------       --------------   -----         \n",
            " 0   InvoiceNo    406829 non-null  object        \n",
            " 1   StockCode    406829 non-null  object        \n",
            " 2   Description  406829 non-null  object        \n",
            " 3   Quantity     406829 non-null  int64         \n",
            " 4   InvoiceDate  406829 non-null  datetime64[ns]\n",
            " 5   UnitPrice    406829 non-null  float64       \n",
            " 6   CustomerID   406829 non-null  float64       \n",
            " 7   Country      406829 non-null  object        \n",
            "dtypes: datetime64[ns](1), float64(2), int64(1), object(4)\n",
            "memory usage: 27.9+ MB\n"
          ],
          "name": "stdout"
        }
      ]
    },
    {
      "cell_type": "markdown",
      "metadata": {
        "id": "jHoo4GvLbb8w"
      },
      "source": [
        "### Data Exploration"
      ]
    },
    {
      "cell_type": "code",
      "metadata": {
        "id": "itiXGJK6bb8w",
        "colab": {
          "base_uri": "https://localhost:8080/"
        },
        "outputId": "5598b992-d902-4e83-d28d-57a9f8f8522b"
      },
      "source": [
        "# Data Exploration\n",
        "\n",
        "# Quantity\n",
        "dataset.sort_values(\"Quantity\", ascending = False).head(5)"
      ],
      "execution_count": null,
      "outputs": [
        {
          "output_type": "execute_result",
          "data": {
            "text/html": [
              "<div>\n",
              "<style scoped>\n",
              "    .dataframe tbody tr th:only-of-type {\n",
              "        vertical-align: middle;\n",
              "    }\n",
              "\n",
              "    .dataframe tbody tr th {\n",
              "        vertical-align: top;\n",
              "    }\n",
              "\n",
              "    .dataframe thead th {\n",
              "        text-align: right;\n",
              "    }\n",
              "</style>\n",
              "<table border=\"1\" class=\"dataframe\">\n",
              "  <thead>\n",
              "    <tr style=\"text-align: right;\">\n",
              "      <th></th>\n",
              "      <th>InvoiceNo</th>\n",
              "      <th>StockCode</th>\n",
              "      <th>Description</th>\n",
              "      <th>Quantity</th>\n",
              "      <th>InvoiceDate</th>\n",
              "      <th>UnitPrice</th>\n",
              "      <th>CustomerID</th>\n",
              "      <th>Country</th>\n",
              "    </tr>\n",
              "  </thead>\n",
              "  <tbody>\n",
              "    <tr>\n",
              "      <th>540421</th>\n",
              "      <td>581483</td>\n",
              "      <td>23843</td>\n",
              "      <td>PAPER CRAFT , LITTLE BIRDIE</td>\n",
              "      <td>80995</td>\n",
              "      <td>2011-12-09 09:15:00</td>\n",
              "      <td>2.08</td>\n",
              "      <td>16446.0</td>\n",
              "      <td>United Kingdom</td>\n",
              "    </tr>\n",
              "    <tr>\n",
              "      <th>61619</th>\n",
              "      <td>541431</td>\n",
              "      <td>23166</td>\n",
              "      <td>MEDIUM CERAMIC TOP STORAGE JAR</td>\n",
              "      <td>74215</td>\n",
              "      <td>2011-01-18 10:01:00</td>\n",
              "      <td>1.04</td>\n",
              "      <td>12346.0</td>\n",
              "      <td>United Kingdom</td>\n",
              "    </tr>\n",
              "    <tr>\n",
              "      <th>502122</th>\n",
              "      <td>578841</td>\n",
              "      <td>84826</td>\n",
              "      <td>ASSTD DESIGN 3D PAPER STICKERS</td>\n",
              "      <td>12540</td>\n",
              "      <td>2011-11-25 15:57:00</td>\n",
              "      <td>0.00</td>\n",
              "      <td>13256.0</td>\n",
              "      <td>United Kingdom</td>\n",
              "    </tr>\n",
              "    <tr>\n",
              "      <th>421632</th>\n",
              "      <td>573008</td>\n",
              "      <td>84077</td>\n",
              "      <td>WORLD WAR 2 GLIDERS ASSTD DESIGNS</td>\n",
              "      <td>4800</td>\n",
              "      <td>2011-10-27 12:26:00</td>\n",
              "      <td>0.21</td>\n",
              "      <td>12901.0</td>\n",
              "      <td>United Kingdom</td>\n",
              "    </tr>\n",
              "    <tr>\n",
              "      <th>206121</th>\n",
              "      <td>554868</td>\n",
              "      <td>22197</td>\n",
              "      <td>SMALL POPCORN HOLDER</td>\n",
              "      <td>4300</td>\n",
              "      <td>2011-05-27 10:52:00</td>\n",
              "      <td>0.72</td>\n",
              "      <td>13135.0</td>\n",
              "      <td>United Kingdom</td>\n",
              "    </tr>\n",
              "  </tbody>\n",
              "</table>\n",
              "</div>"
            ],
            "text/plain": [
              "       InvoiceNo StockCode  ... CustomerID         Country\n",
              "540421    581483     23843  ...    16446.0  United Kingdom\n",
              "61619     541431     23166  ...    12346.0  United Kingdom\n",
              "502122    578841     84826  ...    13256.0  United Kingdom\n",
              "421632    573008     84077  ...    12901.0  United Kingdom\n",
              "206121    554868     22197  ...    13135.0  United Kingdom\n",
              "\n",
              "[5 rows x 8 columns]"
            ]
          },
          "metadata": {
            "tags": []
          },
          "execution_count": 19
        }
      ]
    },
    {
      "cell_type": "code",
      "metadata": {
        "id": "CYPXMSuIbb8w",
        "colab": {
          "base_uri": "https://localhost:8080/"
        },
        "outputId": "5fdaf98c-5547-4788-ae12-4b7fc445d75c"
      },
      "source": [
        "dataset.sort_values(\"Quantity\", ascending = False).tail(5)"
      ],
      "execution_count": null,
      "outputs": [
        {
          "output_type": "execute_result",
          "data": {
            "text/html": [
              "<div>\n",
              "<style scoped>\n",
              "    .dataframe tbody tr th:only-of-type {\n",
              "        vertical-align: middle;\n",
              "    }\n",
              "\n",
              "    .dataframe tbody tr th {\n",
              "        vertical-align: top;\n",
              "    }\n",
              "\n",
              "    .dataframe thead th {\n",
              "        text-align: right;\n",
              "    }\n",
              "</style>\n",
              "<table border=\"1\" class=\"dataframe\">\n",
              "  <thead>\n",
              "    <tr style=\"text-align: right;\">\n",
              "      <th></th>\n",
              "      <th>InvoiceNo</th>\n",
              "      <th>StockCode</th>\n",
              "      <th>Description</th>\n",
              "      <th>Quantity</th>\n",
              "      <th>InvoiceDate</th>\n",
              "      <th>UnitPrice</th>\n",
              "      <th>CustomerID</th>\n",
              "      <th>Country</th>\n",
              "    </tr>\n",
              "  </thead>\n",
              "  <tbody>\n",
              "    <tr>\n",
              "      <th>160144</th>\n",
              "      <td>C550456</td>\n",
              "      <td>21175</td>\n",
              "      <td>GIN + TONIC DIET METAL SIGN</td>\n",
              "      <td>-2000</td>\n",
              "      <td>2011-04-18 13:08:00</td>\n",
              "      <td>1.85</td>\n",
              "      <td>15749.0</td>\n",
              "      <td>United Kingdom</td>\n",
              "    </tr>\n",
              "    <tr>\n",
              "      <th>160145</th>\n",
              "      <td>C550456</td>\n",
              "      <td>21108</td>\n",
              "      <td>FAIRY CAKE FLANNEL ASSORTED COLOUR</td>\n",
              "      <td>-3114</td>\n",
              "      <td>2011-04-18 13:08:00</td>\n",
              "      <td>2.10</td>\n",
              "      <td>15749.0</td>\n",
              "      <td>United Kingdom</td>\n",
              "    </tr>\n",
              "    <tr>\n",
              "      <th>4287</th>\n",
              "      <td>C536757</td>\n",
              "      <td>84347</td>\n",
              "      <td>ROTATING SILVER ANGELS T-LIGHT HLDR</td>\n",
              "      <td>-9360</td>\n",
              "      <td>2010-12-02 14:23:00</td>\n",
              "      <td>0.03</td>\n",
              "      <td>15838.0</td>\n",
              "      <td>United Kingdom</td>\n",
              "    </tr>\n",
              "    <tr>\n",
              "      <th>61624</th>\n",
              "      <td>C541433</td>\n",
              "      <td>23166</td>\n",
              "      <td>MEDIUM CERAMIC TOP STORAGE JAR</td>\n",
              "      <td>-74215</td>\n",
              "      <td>2011-01-18 10:17:00</td>\n",
              "      <td>1.04</td>\n",
              "      <td>12346.0</td>\n",
              "      <td>United Kingdom</td>\n",
              "    </tr>\n",
              "    <tr>\n",
              "      <th>540422</th>\n",
              "      <td>C581484</td>\n",
              "      <td>23843</td>\n",
              "      <td>PAPER CRAFT , LITTLE BIRDIE</td>\n",
              "      <td>-80995</td>\n",
              "      <td>2011-12-09 09:27:00</td>\n",
              "      <td>2.08</td>\n",
              "      <td>16446.0</td>\n",
              "      <td>United Kingdom</td>\n",
              "    </tr>\n",
              "  </tbody>\n",
              "</table>\n",
              "</div>"
            ],
            "text/plain": [
              "       InvoiceNo StockCode  ... CustomerID         Country\n",
              "160144   C550456     21175  ...    15749.0  United Kingdom\n",
              "160145   C550456     21108  ...    15749.0  United Kingdom\n",
              "4287     C536757     84347  ...    15838.0  United Kingdom\n",
              "61624    C541433     23166  ...    12346.0  United Kingdom\n",
              "540422   C581484     23843  ...    16446.0  United Kingdom\n",
              "\n",
              "[5 rows x 8 columns]"
            ]
          },
          "metadata": {
            "tags": []
          },
          "execution_count": 20
        }
      ]
    },
    {
      "cell_type": "markdown",
      "metadata": {
        "id": "_5hN6J6ibb8x"
      },
      "source": [
        "Quantity is negative may be due to discounts, damaged goods, thrown away etc. I shall remove these values."
      ]
    },
    {
      "cell_type": "code",
      "metadata": {
        "id": "N9CVQvvgbb8x",
        "colab": {
          "base_uri": "https://localhost:8080/"
        },
        "outputId": "161b3dad-87c6-4043-ca34-4c0da58bf366"
      },
      "source": [
        "mask = dataset[\"Quantity\"] > 0\n",
        "\n",
        "dataset = dataset [mask]\n",
        "dataset.sort_values(\"Quantity\", ascending = False).tail(5)"
      ],
      "execution_count": null,
      "outputs": [
        {
          "output_type": "execute_result",
          "data": {
            "text/html": [
              "<div>\n",
              "<style scoped>\n",
              "    .dataframe tbody tr th:only-of-type {\n",
              "        vertical-align: middle;\n",
              "    }\n",
              "\n",
              "    .dataframe tbody tr th {\n",
              "        vertical-align: top;\n",
              "    }\n",
              "\n",
              "    .dataframe thead th {\n",
              "        text-align: right;\n",
              "    }\n",
              "</style>\n",
              "<table border=\"1\" class=\"dataframe\">\n",
              "  <thead>\n",
              "    <tr style=\"text-align: right;\">\n",
              "      <th></th>\n",
              "      <th>InvoiceNo</th>\n",
              "      <th>StockCode</th>\n",
              "      <th>Description</th>\n",
              "      <th>Quantity</th>\n",
              "      <th>InvoiceDate</th>\n",
              "      <th>UnitPrice</th>\n",
              "      <th>CustomerID</th>\n",
              "      <th>Country</th>\n",
              "    </tr>\n",
              "  </thead>\n",
              "  <tbody>\n",
              "    <tr>\n",
              "      <th>389620</th>\n",
              "      <td>570482</td>\n",
              "      <td>23380</td>\n",
              "      <td>PACK OF 12 VINTAGE DOILY TISSUES</td>\n",
              "      <td>1</td>\n",
              "      <td>2011-10-10 17:00:00</td>\n",
              "      <td>0.39</td>\n",
              "      <td>17459.0</td>\n",
              "      <td>United Kingdom</td>\n",
              "    </tr>\n",
              "    <tr>\n",
              "      <th>132735</th>\n",
              "      <td>547689</td>\n",
              "      <td>21528</td>\n",
              "      <td>DAIRY MAID TRADITIONAL TEAPOT</td>\n",
              "      <td>1</td>\n",
              "      <td>2011-03-24 14:55:00</td>\n",
              "      <td>6.95</td>\n",
              "      <td>17757.0</td>\n",
              "      <td>United Kingdom</td>\n",
              "    </tr>\n",
              "    <tr>\n",
              "      <th>389621</th>\n",
              "      <td>570482</td>\n",
              "      <td>22615</td>\n",
              "      <td>PACK OF 12 CIRCUS PARADE TISSUES</td>\n",
              "      <td>1</td>\n",
              "      <td>2011-10-10 17:00:00</td>\n",
              "      <td>0.39</td>\n",
              "      <td>17459.0</td>\n",
              "      <td>United Kingdom</td>\n",
              "    </tr>\n",
              "    <tr>\n",
              "      <th>389622</th>\n",
              "      <td>570482</td>\n",
              "      <td>23377</td>\n",
              "      <td>PACK OF 12 DOLLY GIRL TISSUES</td>\n",
              "      <td>1</td>\n",
              "      <td>2011-10-10 17:00:00</td>\n",
              "      <td>0.39</td>\n",
              "      <td>17459.0</td>\n",
              "      <td>United Kingdom</td>\n",
              "    </tr>\n",
              "    <tr>\n",
              "      <th>109150</th>\n",
              "      <td>545587</td>\n",
              "      <td>21870</td>\n",
              "      <td>I CAN ONLY PLEASE ONE PERSON MUG</td>\n",
              "      <td>1</td>\n",
              "      <td>2011-03-04 09:46:00</td>\n",
              "      <td>1.25</td>\n",
              "      <td>14796.0</td>\n",
              "      <td>United Kingdom</td>\n",
              "    </tr>\n",
              "  </tbody>\n",
              "</table>\n",
              "</div>"
            ],
            "text/plain": [
              "       InvoiceNo StockCode  ... CustomerID         Country\n",
              "389620    570482     23380  ...    17459.0  United Kingdom\n",
              "132735    547689     21528  ...    17757.0  United Kingdom\n",
              "389621    570482     22615  ...    17459.0  United Kingdom\n",
              "389622    570482     23377  ...    17459.0  United Kingdom\n",
              "109150    545587     21870  ...    14796.0  United Kingdom\n",
              "\n",
              "[5 rows x 8 columns]"
            ]
          },
          "metadata": {
            "tags": []
          },
          "execution_count": 21
        }
      ]
    },
    {
      "cell_type": "code",
      "metadata": {
        "id": "mc0lYq-jbb8x"
      },
      "source": [
        "# For some customers, their information on country is unspecified, lets filter those out\n",
        "\n",
        "mask = dataset[\"Country\"] != \"Unspecified\"\n",
        "dataset = dataset [mask]"
      ],
      "execution_count": null,
      "outputs": []
    },
    {
      "cell_type": "code",
      "metadata": {
        "id": "JefotpnCbb8x",
        "colab": {
          "base_uri": "https://localhost:8080/"
        },
        "outputId": "3b03effa-6dc1-4ea8-d29f-d723fa4e227b"
      },
      "source": [
        "# Creating new column - Revenue in $\n",
        "\n",
        "dataset[\"Revenue\"] = dataset[\"Quantity\"]*dataset[\"UnitPrice\"]\n",
        "dataset.head(10).sort_values(\"Revenue\", ascending = False).head(5)"
      ],
      "execution_count": null,
      "outputs": [
        {
          "output_type": "execute_result",
          "data": {
            "text/html": [
              "<div>\n",
              "<style scoped>\n",
              "    .dataframe tbody tr th:only-of-type {\n",
              "        vertical-align: middle;\n",
              "    }\n",
              "\n",
              "    .dataframe tbody tr th {\n",
              "        vertical-align: top;\n",
              "    }\n",
              "\n",
              "    .dataframe thead th {\n",
              "        text-align: right;\n",
              "    }\n",
              "</style>\n",
              "<table border=\"1\" class=\"dataframe\">\n",
              "  <thead>\n",
              "    <tr style=\"text-align: right;\">\n",
              "      <th></th>\n",
              "      <th>InvoiceNo</th>\n",
              "      <th>StockCode</th>\n",
              "      <th>Description</th>\n",
              "      <th>Quantity</th>\n",
              "      <th>InvoiceDate</th>\n",
              "      <th>UnitPrice</th>\n",
              "      <th>CustomerID</th>\n",
              "      <th>Country</th>\n",
              "      <th>Revenue</th>\n",
              "    </tr>\n",
              "  </thead>\n",
              "  <tbody>\n",
              "    <tr>\n",
              "      <th>9</th>\n",
              "      <td>536367</td>\n",
              "      <td>84879</td>\n",
              "      <td>ASSORTED COLOUR BIRD ORNAMENT</td>\n",
              "      <td>32</td>\n",
              "      <td>2010-12-01 08:34:00</td>\n",
              "      <td>1.69</td>\n",
              "      <td>13047.0</td>\n",
              "      <td>United Kingdom</td>\n",
              "      <td>54.08</td>\n",
              "    </tr>\n",
              "    <tr>\n",
              "      <th>6</th>\n",
              "      <td>536365</td>\n",
              "      <td>21730</td>\n",
              "      <td>GLASS STAR FROSTED T-LIGHT HOLDER</td>\n",
              "      <td>6</td>\n",
              "      <td>2010-12-01 08:26:00</td>\n",
              "      <td>4.25</td>\n",
              "      <td>17850.0</td>\n",
              "      <td>United Kingdom</td>\n",
              "      <td>25.50</td>\n",
              "    </tr>\n",
              "    <tr>\n",
              "      <th>2</th>\n",
              "      <td>536365</td>\n",
              "      <td>84406B</td>\n",
              "      <td>CREAM CUPID HEARTS COAT HANGER</td>\n",
              "      <td>8</td>\n",
              "      <td>2010-12-01 08:26:00</td>\n",
              "      <td>2.75</td>\n",
              "      <td>17850.0</td>\n",
              "      <td>United Kingdom</td>\n",
              "      <td>22.00</td>\n",
              "    </tr>\n",
              "    <tr>\n",
              "      <th>1</th>\n",
              "      <td>536365</td>\n",
              "      <td>71053</td>\n",
              "      <td>WHITE METAL LANTERN</td>\n",
              "      <td>6</td>\n",
              "      <td>2010-12-01 08:26:00</td>\n",
              "      <td>3.39</td>\n",
              "      <td>17850.0</td>\n",
              "      <td>United Kingdom</td>\n",
              "      <td>20.34</td>\n",
              "    </tr>\n",
              "    <tr>\n",
              "      <th>3</th>\n",
              "      <td>536365</td>\n",
              "      <td>84029G</td>\n",
              "      <td>KNITTED UNION FLAG HOT WATER BOTTLE</td>\n",
              "      <td>6</td>\n",
              "      <td>2010-12-01 08:26:00</td>\n",
              "      <td>3.39</td>\n",
              "      <td>17850.0</td>\n",
              "      <td>United Kingdom</td>\n",
              "      <td>20.34</td>\n",
              "    </tr>\n",
              "  </tbody>\n",
              "</table>\n",
              "</div>"
            ],
            "text/plain": [
              "  InvoiceNo StockCode  ...         Country  Revenue\n",
              "9    536367     84879  ...  United Kingdom    54.08\n",
              "6    536365     21730  ...  United Kingdom    25.50\n",
              "2    536365    84406B  ...  United Kingdom    22.00\n",
              "1    536365     71053  ...  United Kingdom    20.34\n",
              "3    536365    84029G  ...  United Kingdom    20.34\n",
              "\n",
              "[5 rows x 9 columns]"
            ]
          },
          "metadata": {
            "tags": []
          },
          "execution_count": 23
        }
      ]
    },
    {
      "cell_type": "code",
      "metadata": {
        "id": "rlVz7FO8bb8y",
        "colab": {
          "base_uri": "https://localhost:8080/"
        },
        "outputId": "a537eb2d-4eb5-4146-ca7a-b06672b136bc"
      },
      "source": [
        "dataset.sort_values(\"Revenue\", ascending = False).tail(5)\n",
        "\n",
        "# Revenue is 0 for some quantities, as they may have been given away as promotional offers, I shll remove these as well"
      ],
      "execution_count": null,
      "outputs": [
        {
          "output_type": "execute_result",
          "data": {
            "text/html": [
              "<div>\n",
              "<style scoped>\n",
              "    .dataframe tbody tr th:only-of-type {\n",
              "        vertical-align: middle;\n",
              "    }\n",
              "\n",
              "    .dataframe tbody tr th {\n",
              "        vertical-align: top;\n",
              "    }\n",
              "\n",
              "    .dataframe thead th {\n",
              "        text-align: right;\n",
              "    }\n",
              "</style>\n",
              "<table border=\"1\" class=\"dataframe\">\n",
              "  <thead>\n",
              "    <tr style=\"text-align: right;\">\n",
              "      <th></th>\n",
              "      <th>InvoiceNo</th>\n",
              "      <th>StockCode</th>\n",
              "      <th>Description</th>\n",
              "      <th>Quantity</th>\n",
              "      <th>InvoiceDate</th>\n",
              "      <th>UnitPrice</th>\n",
              "      <th>CustomerID</th>\n",
              "      <th>Country</th>\n",
              "      <th>Revenue</th>\n",
              "    </tr>\n",
              "  </thead>\n",
              "  <tbody>\n",
              "    <tr>\n",
              "      <th>145208</th>\n",
              "      <td>548871</td>\n",
              "      <td>22162</td>\n",
              "      <td>HEART GARLAND RUSTIC PADDED</td>\n",
              "      <td>2</td>\n",
              "      <td>2011-04-04 14:42:00</td>\n",
              "      <td>0.0</td>\n",
              "      <td>14410.0</td>\n",
              "      <td>United Kingdom</td>\n",
              "      <td>0.0</td>\n",
              "    </tr>\n",
              "    <tr>\n",
              "      <th>485985</th>\n",
              "      <td>577696</td>\n",
              "      <td>M</td>\n",
              "      <td>Manual</td>\n",
              "      <td>1</td>\n",
              "      <td>2011-11-21 11:57:00</td>\n",
              "      <td>0.0</td>\n",
              "      <td>16406.0</td>\n",
              "      <td>United Kingdom</td>\n",
              "      <td>0.0</td>\n",
              "    </tr>\n",
              "    <tr>\n",
              "      <th>454463</th>\n",
              "      <td>575579</td>\n",
              "      <td>22437</td>\n",
              "      <td>SET OF 9 BLACK SKULL BALLOONS</td>\n",
              "      <td>20</td>\n",
              "      <td>2011-11-10 11:49:00</td>\n",
              "      <td>0.0</td>\n",
              "      <td>13081.0</td>\n",
              "      <td>United Kingdom</td>\n",
              "      <td>0.0</td>\n",
              "    </tr>\n",
              "    <tr>\n",
              "      <th>454464</th>\n",
              "      <td>575579</td>\n",
              "      <td>22089</td>\n",
              "      <td>PAPER BUNTING VINTAGE PAISLEY</td>\n",
              "      <td>24</td>\n",
              "      <td>2011-11-10 11:49:00</td>\n",
              "      <td>0.0</td>\n",
              "      <td>13081.0</td>\n",
              "      <td>United Kingdom</td>\n",
              "      <td>0.0</td>\n",
              "    </tr>\n",
              "    <tr>\n",
              "      <th>285657</th>\n",
              "      <td>561916</td>\n",
              "      <td>M</td>\n",
              "      <td>Manual</td>\n",
              "      <td>1</td>\n",
              "      <td>2011-08-01 11:44:00</td>\n",
              "      <td>0.0</td>\n",
              "      <td>15581.0</td>\n",
              "      <td>United Kingdom</td>\n",
              "      <td>0.0</td>\n",
              "    </tr>\n",
              "  </tbody>\n",
              "</table>\n",
              "</div>"
            ],
            "text/plain": [
              "       InvoiceNo StockCode  ...         Country  Revenue\n",
              "145208    548871     22162  ...  United Kingdom      0.0\n",
              "485985    577696         M  ...  United Kingdom      0.0\n",
              "454463    575579     22437  ...  United Kingdom      0.0\n",
              "454464    575579     22089  ...  United Kingdom      0.0\n",
              "285657    561916         M  ...  United Kingdom      0.0\n",
              "\n",
              "[5 rows x 9 columns]"
            ]
          },
          "metadata": {
            "tags": []
          },
          "execution_count": 24
        }
      ]
    },
    {
      "cell_type": "code",
      "metadata": {
        "id": "85Ljkkltbb8y",
        "colab": {
          "base_uri": "https://localhost:8080/"
        },
        "outputId": "1b64c5dd-0196-40c5-d97e-cad25d278dbd"
      },
      "source": [
        "mask = dataset[\"Revenue\"] > 0\n",
        "\n",
        "dataset = dataset [mask]\n",
        "dataset.sort_values(\"Revenue\", ascending = False).head(5)"
      ],
      "execution_count": null,
      "outputs": [
        {
          "output_type": "execute_result",
          "data": {
            "text/html": [
              "<div>\n",
              "<style scoped>\n",
              "    .dataframe tbody tr th:only-of-type {\n",
              "        vertical-align: middle;\n",
              "    }\n",
              "\n",
              "    .dataframe tbody tr th {\n",
              "        vertical-align: top;\n",
              "    }\n",
              "\n",
              "    .dataframe thead th {\n",
              "        text-align: right;\n",
              "    }\n",
              "</style>\n",
              "<table border=\"1\" class=\"dataframe\">\n",
              "  <thead>\n",
              "    <tr style=\"text-align: right;\">\n",
              "      <th></th>\n",
              "      <th>InvoiceNo</th>\n",
              "      <th>StockCode</th>\n",
              "      <th>Description</th>\n",
              "      <th>Quantity</th>\n",
              "      <th>InvoiceDate</th>\n",
              "      <th>UnitPrice</th>\n",
              "      <th>CustomerID</th>\n",
              "      <th>Country</th>\n",
              "      <th>Revenue</th>\n",
              "    </tr>\n",
              "  </thead>\n",
              "  <tbody>\n",
              "    <tr>\n",
              "      <th>540421</th>\n",
              "      <td>581483</td>\n",
              "      <td>23843</td>\n",
              "      <td>PAPER CRAFT , LITTLE BIRDIE</td>\n",
              "      <td>80995</td>\n",
              "      <td>2011-12-09 09:15:00</td>\n",
              "      <td>2.08</td>\n",
              "      <td>16446.0</td>\n",
              "      <td>United Kingdom</td>\n",
              "      <td>168469.60</td>\n",
              "    </tr>\n",
              "    <tr>\n",
              "      <th>61619</th>\n",
              "      <td>541431</td>\n",
              "      <td>23166</td>\n",
              "      <td>MEDIUM CERAMIC TOP STORAGE JAR</td>\n",
              "      <td>74215</td>\n",
              "      <td>2011-01-18 10:01:00</td>\n",
              "      <td>1.04</td>\n",
              "      <td>12346.0</td>\n",
              "      <td>United Kingdom</td>\n",
              "      <td>77183.60</td>\n",
              "    </tr>\n",
              "    <tr>\n",
              "      <th>222680</th>\n",
              "      <td>556444</td>\n",
              "      <td>22502</td>\n",
              "      <td>PICNIC BASKET WICKER 60 PIECES</td>\n",
              "      <td>60</td>\n",
              "      <td>2011-06-10 15:28:00</td>\n",
              "      <td>649.50</td>\n",
              "      <td>15098.0</td>\n",
              "      <td>United Kingdom</td>\n",
              "      <td>38970.00</td>\n",
              "    </tr>\n",
              "    <tr>\n",
              "      <th>173382</th>\n",
              "      <td>551697</td>\n",
              "      <td>POST</td>\n",
              "      <td>POSTAGE</td>\n",
              "      <td>1</td>\n",
              "      <td>2011-05-03 13:46:00</td>\n",
              "      <td>8142.75</td>\n",
              "      <td>16029.0</td>\n",
              "      <td>United Kingdom</td>\n",
              "      <td>8142.75</td>\n",
              "    </tr>\n",
              "    <tr>\n",
              "      <th>348325</th>\n",
              "      <td>567423</td>\n",
              "      <td>23243</td>\n",
              "      <td>SET OF TEA COFFEE SUGAR TINS PANTRY</td>\n",
              "      <td>1412</td>\n",
              "      <td>2011-09-20 11:05:00</td>\n",
              "      <td>5.06</td>\n",
              "      <td>17450.0</td>\n",
              "      <td>United Kingdom</td>\n",
              "      <td>7144.72</td>\n",
              "    </tr>\n",
              "  </tbody>\n",
              "</table>\n",
              "</div>"
            ],
            "text/plain": [
              "       InvoiceNo StockCode  ...         Country    Revenue\n",
              "540421    581483     23843  ...  United Kingdom  168469.60\n",
              "61619     541431     23166  ...  United Kingdom   77183.60\n",
              "222680    556444     22502  ...  United Kingdom   38970.00\n",
              "173382    551697      POST  ...  United Kingdom    8142.75\n",
              "348325    567423     23243  ...  United Kingdom    7144.72\n",
              "\n",
              "[5 rows x 9 columns]"
            ]
          },
          "metadata": {
            "tags": []
          },
          "execution_count": 25
        }
      ]
    },
    {
      "cell_type": "code",
      "metadata": {
        "id": "oRQG4FR6bb8y",
        "colab": {
          "base_uri": "https://localhost:8080/"
        },
        "outputId": "74033f08-78e7-4507-a5e9-52ab8de7d1ad"
      },
      "source": [
        "dataset.sort_values(\"Revenue\", ascending = False).tail(5)"
      ],
      "execution_count": null,
      "outputs": [
        {
          "output_type": "execute_result",
          "data": {
            "text/html": [
              "<div>\n",
              "<style scoped>\n",
              "    .dataframe tbody tr th:only-of-type {\n",
              "        vertical-align: middle;\n",
              "    }\n",
              "\n",
              "    .dataframe tbody tr th {\n",
              "        vertical-align: top;\n",
              "    }\n",
              "\n",
              "    .dataframe thead th {\n",
              "        text-align: right;\n",
              "    }\n",
              "</style>\n",
              "<table border=\"1\" class=\"dataframe\">\n",
              "  <thead>\n",
              "    <tr style=\"text-align: right;\">\n",
              "      <th></th>\n",
              "      <th>InvoiceNo</th>\n",
              "      <th>StockCode</th>\n",
              "      <th>Description</th>\n",
              "      <th>Quantity</th>\n",
              "      <th>InvoiceDate</th>\n",
              "      <th>UnitPrice</th>\n",
              "      <th>CustomerID</th>\n",
              "      <th>Country</th>\n",
              "      <th>Revenue</th>\n",
              "    </tr>\n",
              "  </thead>\n",
              "  <tbody>\n",
              "    <tr>\n",
              "      <th>500313</th>\n",
              "      <td>578757</td>\n",
              "      <td>16216</td>\n",
              "      <td>LETTER SHAPE PENCIL SHARPENER</td>\n",
              "      <td>1</td>\n",
              "      <td>2011-11-25 11:41:00</td>\n",
              "      <td>0.060</td>\n",
              "      <td>12748.0</td>\n",
              "      <td>United Kingdom</td>\n",
              "      <td>0.060</td>\n",
              "    </tr>\n",
              "    <tr>\n",
              "      <th>361741</th>\n",
              "      <td>568375</td>\n",
              "      <td>BANK CHARGES</td>\n",
              "      <td>Bank Charges</td>\n",
              "      <td>1</td>\n",
              "      <td>2011-09-26 17:01:00</td>\n",
              "      <td>0.001</td>\n",
              "      <td>13405.0</td>\n",
              "      <td>United Kingdom</td>\n",
              "      <td>0.001</td>\n",
              "    </tr>\n",
              "    <tr>\n",
              "      <th>157195</th>\n",
              "      <td>550193</td>\n",
              "      <td>PADS</td>\n",
              "      <td>PADS TO MATCH ALL CUSHIONS</td>\n",
              "      <td>1</td>\n",
              "      <td>2011-04-15 09:27:00</td>\n",
              "      <td>0.001</td>\n",
              "      <td>13952.0</td>\n",
              "      <td>United Kingdom</td>\n",
              "      <td>0.001</td>\n",
              "    </tr>\n",
              "    <tr>\n",
              "      <th>279045</th>\n",
              "      <td>561226</td>\n",
              "      <td>PADS</td>\n",
              "      <td>PADS TO MATCH ALL CUSHIONS</td>\n",
              "      <td>1</td>\n",
              "      <td>2011-07-26 10:13:00</td>\n",
              "      <td>0.001</td>\n",
              "      <td>15618.0</td>\n",
              "      <td>United Kingdom</td>\n",
              "      <td>0.001</td>\n",
              "    </tr>\n",
              "    <tr>\n",
              "      <th>359871</th>\n",
              "      <td>568200</td>\n",
              "      <td>PADS</td>\n",
              "      <td>PADS TO MATCH ALL CUSHIONS</td>\n",
              "      <td>1</td>\n",
              "      <td>2011-09-25 14:58:00</td>\n",
              "      <td>0.001</td>\n",
              "      <td>16198.0</td>\n",
              "      <td>United Kingdom</td>\n",
              "      <td>0.001</td>\n",
              "    </tr>\n",
              "  </tbody>\n",
              "</table>\n",
              "</div>"
            ],
            "text/plain": [
              "       InvoiceNo     StockCode  ...         Country  Revenue\n",
              "500313    578757         16216  ...  United Kingdom    0.060\n",
              "361741    568375  BANK CHARGES  ...  United Kingdom    0.001\n",
              "157195    550193          PADS  ...  United Kingdom    0.001\n",
              "279045    561226          PADS  ...  United Kingdom    0.001\n",
              "359871    568200          PADS  ...  United Kingdom    0.001\n",
              "\n",
              "[5 rows x 9 columns]"
            ]
          },
          "metadata": {
            "tags": []
          },
          "execution_count": 26
        }
      ]
    },
    {
      "cell_type": "code",
      "metadata": {
        "id": "GS_MsZtwbb8y",
        "colab": {
          "base_uri": "https://localhost:8080/"
        },
        "outputId": "25775697-69b7-43c6-82e3-332a6cdaf459"
      },
      "source": [
        "# Encoding variables\n",
        "\n",
        "dataset[\"StockCode\"] = dataset[\"StockCode\"].astype('object')\n",
        "dataset[\"CustomerID\"] = dataset[\"CustomerID\"].astype('object')\n",
        "\n",
        "dataset.info()"
      ],
      "execution_count": null,
      "outputs": [
        {
          "output_type": "stream",
          "text": [
            "<class 'pandas.core.frame.DataFrame'>\n",
            "Int64Index: 397640 entries, 0 to 541908\n",
            "Data columns (total 9 columns):\n",
            " #   Column       Non-Null Count   Dtype         \n",
            "---  ------       --------------   -----         \n",
            " 0   InvoiceNo    397640 non-null  object        \n",
            " 1   StockCode    397640 non-null  object        \n",
            " 2   Description  397640 non-null  object        \n",
            " 3   Quantity     397640 non-null  int64         \n",
            " 4   InvoiceDate  397640 non-null  datetime64[ns]\n",
            " 5   UnitPrice    397640 non-null  float64       \n",
            " 6   CustomerID   397640 non-null  object        \n",
            " 7   Country      397640 non-null  object        \n",
            " 8   Revenue      397640 non-null  float64       \n",
            "dtypes: datetime64[ns](1), float64(2), int64(1), object(5)\n",
            "memory usage: 30.3+ MB\n"
          ],
          "name": "stdout"
        }
      ]
    },
    {
      "cell_type": "markdown",
      "metadata": {
        "id": "8g_kqCcVbb8z"
      },
      "source": [
        "### Top 20% of customers driving 80% of revenue"
      ]
    },
    {
      "cell_type": "code",
      "metadata": {
        "id": "M70wssxPbb8z",
        "colab": {
          "base_uri": "https://localhost:8080/"
        },
        "outputId": "c3c98559-d525-44fc-a6ad-96de715900ef"
      },
      "source": [
        "# Customer ID\n",
        "\n",
        "print(\"Unique customers:\")\n",
        "dataset[\"CustomerID\"].nunique()\n",
        "\n",
        "dataset.groupby(\"CustomerID\").agg({\"Revenue\": \"sum\"}).sort_values(\"Revenue\", ascending = False).head(20).plot(kind = \"bar\")\n",
        "                                \n",
        "plt.show()\n"
      ],
      "execution_count": null,
      "outputs": [
        {
          "output_type": "stream",
          "text": [
            "Unique customers:\n"
          ],
          "name": "stdout"
        },
        {
          "output_type": "display_data",
          "data": {
            "image/png": "[encoded data removed]",
            "text/plain": [
              "<Figure size 432x288 with 1 Axes>"
            ]
          },
          "metadata": {
            "tags": []
          }
        }
      ]
    },
    {
      "cell_type": "code",
      "metadata": {
        "id": "kOpx-rMVbb8z",
        "colab": {
          "base_uri": "https://localhost:8080/"
        },
        "outputId": "ac76fb5f-562e-41bc-aecf-25cb10a4eb6b"
      },
      "source": [
        "# Customer IDs of top segments\n",
        "\n",
        "dataset1 = dataset[[\"CustomerID\", \"Revenue\"]]\n",
        "\n",
        "print(\"Top customer segment IDs\")\n",
        "dataset2 = dataset1.groupby(\"CustomerID\").agg({\"Revenue\": \"sum\"}).sort_values(\"Revenue\", ascending = False)\n",
        "\n",
        "dataset2.head(5)"
      ],
      "execution_count": null,
      "outputs": [
        {
          "output_type": "stream",
          "text": [
            "Top customer segment IDs\n"
          ],
          "name": "stdout"
        },
        {
          "output_type": "execute_result",
          "data": {
            "text/html": [
              "<div>\n",
              "<style scoped>\n",
              "    .dataframe tbody tr th:only-of-type {\n",
              "        vertical-align: middle;\n",
              "    }\n",
              "\n",
              "    .dataframe tbody tr th {\n",
              "        vertical-align: top;\n",
              "    }\n",
              "\n",
              "    .dataframe thead th {\n",
              "        text-align: right;\n",
              "    }\n",
              "</style>\n",
              "<table border=\"1\" class=\"dataframe\">\n",
              "  <thead>\n",
              "    <tr style=\"text-align: right;\">\n",
              "      <th></th>\n",
              "      <th>Revenue</th>\n",
              "    </tr>\n",
              "    <tr>\n",
              "      <th>CustomerID</th>\n",
              "      <th></th>\n",
              "    </tr>\n",
              "  </thead>\n",
              "  <tbody>\n",
              "    <tr>\n",
              "      <th>14646.0</th>\n",
              "      <td>280206.02</td>\n",
              "    </tr>\n",
              "    <tr>\n",
              "      <th>18102.0</th>\n",
              "      <td>259657.30</td>\n",
              "    </tr>\n",
              "    <tr>\n",
              "      <th>17450.0</th>\n",
              "      <td>194550.79</td>\n",
              "    </tr>\n",
              "    <tr>\n",
              "      <th>16446.0</th>\n",
              "      <td>168472.50</td>\n",
              "    </tr>\n",
              "    <tr>\n",
              "      <th>14911.0</th>\n",
              "      <td>143825.06</td>\n",
              "    </tr>\n",
              "  </tbody>\n",
              "</table>\n",
              "</div>"
            ],
            "text/plain": [
              "              Revenue\n",
              "CustomerID           \n",
              "14646.0     280206.02\n",
              "18102.0     259657.30\n",
              "17450.0     194550.79\n",
              "16446.0     168472.50\n",
              "14911.0     143825.06"
            ]
          },
          "metadata": {
            "tags": []
          },
          "execution_count": 29
        }
      ]
    },
    {
      "cell_type": "code",
      "metadata": {
        "id": "bf4-Mj3qbb80",
        "colab": {
          "base_uri": "https://localhost:8080/"
        },
        "outputId": "f1e20702-275f-4d8e-aeed-9c266dca0ce5"
      },
      "source": [
        "# Identifying the top 20 % customer segments driving 80 % $ sales\n",
        "\n",
        "h = dataset1[\"CustomerID\"].nunique()\n",
        "i = round(0.25*h)\n",
        "print(\"# of customers in top 25% power segment:\", i, \"out of\", h)\n",
        "\n",
        "j = dataset1.groupby(\"CustomerID\").agg({\"Revenue\": \"sum\"}).sort_values(\"Revenue\", ascending = False).head(i).sum()\n",
        "k = dataset1[\"Revenue\"].sum()\n",
        "\n",
        "l = j/k*100\n",
        "print(\"Total sales resulting from the top product segment:\", round(list(l)[0]), \"%\")"
      ],
      "execution_count": null,
      "outputs": [
        {
          "output_type": "stream",
          "text": [
            "# of customers in top 25% power segment: 1084 out of 4334\n",
            "Total sales resulting from the top product segment: 79 %\n"
          ],
          "name": "stdout"
        }
      ]
    },
    {
      "cell_type": "markdown",
      "metadata": {
        "id": "Dd7wxm08bb80"
      },
      "source": [
        "### Analysis: \n",
        "\n",
        "1084 out of total 3877, top 25% of customer segments result in 79% of total $ sales amount."
      ]
    },
    {
      "cell_type": "markdown",
      "metadata": {
        "id": "_bhfqpW5bb80"
      },
      "source": [
        "### Business Strategy:\n",
        "\n",
        "While the top 25 % customers can be targetted for potential up sell and cross sell potential. \n",
        "\n",
        "Considering that the retail industry is very competitive, the remaining 75% of customers can be targetted for future expansion by coordination with sales & marketing teams, discounts, pricing stratagy, bundling products, etc."
      ]
    },
    {
      "cell_type": "markdown",
      "metadata": {
        "id": "KYbl91IXbb80"
      },
      "source": [
        "### Top 20 % products driving 80 % of $ sales"
      ]
    },
    {
      "cell_type": "code",
      "metadata": {
        "id": "mNN8ltYLbb80",
        "colab": {
          "base_uri": "https://localhost:8080/"
        },
        "outputId": "85f80099-3ad3-4f1c-b7ec-b950df36b598"
      },
      "source": [
        "# Products\n",
        "\n",
        "dataset1 = dataset[[\"Description\", \"Revenue\"]]\n",
        "print(\"Unique products:\")\n",
        "dataset1[\"Description\"].nunique()"
      ],
      "execution_count": null,
      "outputs": [
        {
          "output_type": "stream",
          "text": [
            "Unique products:\n"
          ],
          "name": "stdout"
        },
        {
          "output_type": "execute_result",
          "data": {
            "text/plain": [
              "3877"
            ]
          },
          "metadata": {
            "tags": []
          },
          "execution_count": 31
        }
      ]
    },
    {
      "cell_type": "markdown",
      "metadata": {
        "id": "OG2Jb73bbb81"
      },
      "source": [
        "#Unique products sold by the retailer is 3877."
      ]
    },
    {
      "cell_type": "code",
      "metadata": {
        "id": "8WuZd01Cbb81",
        "colab": {
          "base_uri": "https://localhost:8080/",
          "height": 495
        },
        "outputId": "f1eda08f-e900-4db7-dbcd-b663fbe6505e"
      },
      "source": [
        "print(dataset1[\"Description\"].nunique())\n",
        "dataset2 = dataset1.groupby(\"Description\").agg({\"Revenue\": \"sum\"}).sort_values(\"Revenue\", ascending = False)\n",
        "dataset2.head(20).plot(kind = \"bar\")\n",
        "plt.show()"
      ],
      "execution_count": null,
      "outputs": [
        {
          "output_type": "stream",
          "text": [
            "3877\n"
          ],
          "name": "stdout"
        },
        {
          "output_type": "display_data",
          "data": {
            "image/png": "[encoded data removed]",
            "text/plain": [
              "<Figure size 432x288 with 1 Axes>"
            ]
          },
          "metadata": {
            "tags": []
          }
        }
      ]
    },
    {
      "cell_type": "code",
      "metadata": {
        "id": "dhPUreMZbb81"
      },
      "source": [
        "# # Multiple Output display\n",
        "from IPython.core.interactiveshell import InteractiveShell\n",
        "InteractiveShell.ast_node_interactivity = \"all\""
      ],
      "execution_count": null,
      "outputs": []
    },
    {
      "cell_type": "code",
      "metadata": {
        "id": "n-8OoVCCbb82",
        "colab": {
          "base_uri": "https://localhost:8080/"
        },
        "outputId": "3627d66e-566d-4f12-e545-9396d58b1176"
      },
      "source": [
        "# Identifying the top 20 % products driving 80 % of $ sales\n",
        "\n",
        "h = dataset1[\"Description\"].nunique()\n",
        "i = round(0.20*h)\n",
        "print(\"# of products in top 20 % segment:\", i, \"out of\", h)\n",
        "\n",
        "j = dataset2.head(i).sum()\n",
        "k = dataset1[\"Revenue\"].sum()\n",
        "\n",
        "l = j/k*100\n",
        "print(\"Total sales resulting from the top product segment:\", round(list(l)[0]), \"%\")"
      ],
      "execution_count": null,
      "outputs": [
        {
          "output_type": "stream",
          "text": [
            "# of products in top 20 % segment: 775 out of 3877\n",
            "Total sales resulting from the top product segment: 79 %\n"
          ],
          "name": "stdout"
        }
      ]
    },
    {
      "cell_type": "markdown",
      "metadata": {
        "id": "cHNbz7IQbb82"
      },
      "source": [
        "### Analysis: \n",
        "\n",
        "775 out of total 3877, top 20% of products result in 79% of total $ sales amount."
      ]
    },
    {
      "cell_type": "markdown",
      "metadata": {
        "id": "iteq_3l2bb82"
      },
      "source": [
        "### Business Startegy:\n",
        "\n",
        "The top 20% of most popular products (top sellers) sold by the retail company can be bundled with less frequently sold products to increase total $ sales overall, through suitable discounts and promotions to customers. "
      ]
    },
    {
      "cell_type": "markdown",
      "metadata": {
        "id": "j17Q46BMbb82"
      },
      "source": [
        "### Top 20 % geographic locations driving 80 % of $ sales"
      ]
    },
    {
      "cell_type": "markdown",
      "metadata": {
        "id": "sP2k9XEJbb83"
      },
      "source": [
        "##### Top 10 countries by revenue"
      ]
    },
    {
      "cell_type": "code",
      "metadata": {
        "id": "N-3LKJ7bbb83",
        "colab": {
          "base_uri": "https://localhost:8080/",
          "height": 415
        },
        "outputId": "d10b37dc-0930-4300-a2ac-bce45b9cd831"
      },
      "source": [
        "# Segmenting sales by geographic location\n",
        "\n",
        "dataset1 = dataset[[\"Country\", \"Revenue\"]]\n",
        "\n",
        "print(\"Countries:\")\n",
        "dataset1[\"Country\"].nunique()\n",
        "print(\"Top 10 countries by $ sales:\")\n",
        "dataset2 = dataset1.groupby(\"Country\").agg({\"Revenue\": \"sum\"}).sort_values(\"Revenue\", ascending = False)\n",
        "dataset2.head(5).plot(kind = \"bar\")\n",
        "\n",
        "# Analysis: "
      ],
      "execution_count": null,
      "outputs": [
        {
          "output_type": "stream",
          "text": [
            "Countries:\n",
            "Top 10 countries by $ sales:\n"
          ],
          "name": "stdout"
        },
        {
          "output_type": "execute_result",
          "data": {
            "text/plain": [
              "<matplotlib.axes._subplots.AxesSubplot at 0x7f64c0fd2b90>"
            ]
          },
          "metadata": {
            "tags": []
          },
          "execution_count": 35
        },
        {
          "output_type": "display_data",
          "data": {
            "image/png": "[encoded data removed]",
            "text/plain": [
              "<Figure size 432x288 with 1 Axes>"
            ]
          },
          "metadata": {
            "tags": []
          }
        }
      ]
    },
    {
      "cell_type": "markdown",
      "metadata": {
        "id": "h6gR6J0fbb83"
      },
      "source": [
        "##### Bottom 20 countries by revenue"
      ]
    },
    {
      "cell_type": "code",
      "metadata": {
        "id": "P8pVkFrNbb83",
        "colab": {
          "base_uri": "https://localhost:8080/",
          "height": 414
        },
        "outputId": "8bf5ca84-152d-42a7-ebbc-5d100c4aef38"
      },
      "source": [
        "print(\"Bottom 10 countries by $ sales:\")\n",
        "\n",
        "dataset2.tail(10).plot(kind = \"bar\")\n",
        "\n",
        "# Analysis"
      ],
      "execution_count": null,
      "outputs": [
        {
          "output_type": "stream",
          "text": [
            "Bottom 10 countries by $ sales:\n"
          ],
          "name": "stdout"
        },
        {
          "output_type": "execute_result",
          "data": {
            "text/plain": [
              "<matplotlib.axes._subplots.AxesSubplot at 0x7f64c1cc4150>"
            ]
          },
          "metadata": {
            "tags": []
          },
          "execution_count": 36
        },
        {
          "output_type": "display_data",
          "data": {
            "image/png": "[encoded data removed]",
            "text/plain": [
              "<Figure size 432x288 with 1 Axes>"
            ]
          },
          "metadata": {
            "tags": []
          }
        }
      ]
    },
    {
      "cell_type": "code",
      "metadata": {
        "id": "-SL6zPX2bb84",
        "colab": {
          "base_uri": "https://localhost:8080/"
        },
        "outputId": "a73c34f5-b4c9-459d-c86a-e4a8e7bb3e26"
      },
      "source": [
        "# Identifying the top 20 % geographic locations driving 80 % of $ sales\n",
        "\n",
        "h = dataset1[\"Country\"].nunique()\n",
        "i = 1\n",
        "\n",
        "print(\"# of products in UK:\")\n",
        "\n",
        "j = dataset2.head(i).sum()\n",
        "k = dataset1[\"Revenue\"].sum()\n",
        "\n",
        "l = j/k*100\n",
        "print(\"Total $ sales resulting from UK:\", round(list(l)[0]), \"%\")"
      ],
      "execution_count": null,
      "outputs": [
        {
          "output_type": "stream",
          "text": [
            "# of products in UK:\n",
            "Total $ sales resulting from UK: 82 %\n"
          ],
          "name": "stdout"
        }
      ]
    },
    {
      "cell_type": "code",
      "metadata": {
        "id": "4ovgRShvbb84",
        "colab": {
          "base_uri": "https://localhost:8080/",
          "height": 235
        },
        "outputId": "69ec3396-494b-4873-a279-249c32a4315c"
      },
      "source": [
        "dataset2.head(5)"
      ],
      "execution_count": null,
      "outputs": [
        {
          "output_type": "execute_result",
          "data": {
            "text/html": [
              "<div>\n",
              "<style scoped>\n",
              "    .dataframe tbody tr th:only-of-type {\n",
              "        vertical-align: middle;\n",
              "    }\n",
              "\n",
              "    .dataframe tbody tr th {\n",
              "        vertical-align: top;\n",
              "    }\n",
              "\n",
              "    .dataframe thead th {\n",
              "        text-align: right;\n",
              "    }\n",
              "</style>\n",
              "<table border=\"1\" class=\"dataframe\">\n",
              "  <thead>\n",
              "    <tr style=\"text-align: right;\">\n",
              "      <th></th>\n",
              "      <th>Revenue</th>\n",
              "    </tr>\n",
              "    <tr>\n",
              "      <th>Country</th>\n",
              "      <th></th>\n",
              "    </tr>\n",
              "  </thead>\n",
              "  <tbody>\n",
              "    <tr>\n",
              "      <th>United Kingdom</th>\n",
              "      <td>7.308392e+06</td>\n",
              "    </tr>\n",
              "    <tr>\n",
              "      <th>Netherlands</th>\n",
              "      <td>2.854463e+05</td>\n",
              "    </tr>\n",
              "    <tr>\n",
              "      <th>EIRE</th>\n",
              "      <td>2.655459e+05</td>\n",
              "    </tr>\n",
              "    <tr>\n",
              "      <th>Germany</th>\n",
              "      <td>2.288671e+05</td>\n",
              "    </tr>\n",
              "    <tr>\n",
              "      <th>France</th>\n",
              "      <td>2.090240e+05</td>\n",
              "    </tr>\n",
              "  </tbody>\n",
              "</table>\n",
              "</div>"
            ],
            "text/plain": [
              "                     Revenue\n",
              "Country                     \n",
              "United Kingdom  7.308392e+06\n",
              "Netherlands     2.854463e+05\n",
              "EIRE            2.655459e+05\n",
              "Germany         2.288671e+05\n",
              "France          2.090240e+05"
            ]
          },
          "metadata": {
            "tags": []
          },
          "execution_count": 38
        }
      ]
    },
    {
      "cell_type": "markdown",
      "metadata": {
        "id": "_Ohvnz3abb84"
      },
      "source": [
        "### Analysis: \n",
        "\n",
        "UK alone results in 82% of total $ revenue which is expected for a UK based retailer."
      ]
    },
    {
      "cell_type": "markdown",
      "metadata": {
        "id": "tBzJZ6ssbb84"
      },
      "source": [
        "### Business Strategy:\n",
        "\n",
        "The senior management for the retail company should consider expanding to the other countries (fter UK) where they have significant sales such as Neatherland, EIRE, Germany & France for future geographic expansion."
      ]
    }
  ]
}